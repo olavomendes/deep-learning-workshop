{
 "cells": [
  {
   "cell_type": "code",
   "execution_count": 13,
   "metadata": {},
   "outputs": [],
   "source": [
    "import pandas as pd\n",
    "import numpy as np\n",
    "\n",
    "from sklearn.model_selection import train_test_split\n",
    "from sklearn.preprocessing import StandardScaler\n",
    "from sklearn.metrics import confusion_matrix\n",
    "\n",
    "from keras.models import Sequential\n",
    "from keras.layers import Dense, Dropout\n",
    "\n",
    "from tensorflow import random"
   ]
  },
  {
   "cell_type": "code",
   "execution_count": 3,
   "metadata": {},
   "outputs": [],
   "source": [
    "X = pd.read_csv('datasets/aps_failure_training_feats.csv')\n",
    "y = pd.read_csv('datasets/aps_failure_training_target.csv')"
   ]
  },
  {
   "cell_type": "code",
   "execution_count": 5,
   "metadata": {},
   "outputs": [],
   "source": [
    "seed = 42\n",
    "\n",
    "X_train, X_test, y_train, y_test = train_test_split(X, y, test_size=0.2, random_state=seed)"
   ]
  },
  {
   "cell_type": "code",
   "execution_count": 7,
   "metadata": {},
   "outputs": [],
   "source": [
    "sc = StandardScaler()\n",
    "\n",
    "X_train = sc.fit_transform(X_train)\n",
    "X_train = pd.DataFrame(X_train, columns=X_test.columns)\n",
    "\n",
    "X_test = sc.transform(X_test)\n",
    "X_test = pd.DataFrame(X_test, columns=X_train.columns)"
   ]
  },
  {
   "cell_type": "code",
   "execution_count": 10,
   "metadata": {},
   "outputs": [],
   "source": [
    "np.random.seed(seed)\n",
    "random.set_seed(seed)\n",
    "\n",
    "model = Sequential()\n",
    "\n",
    "model.add(Dense(64, activation='relu', kernel_initializer='uniform', input_dim=X_train.shape[1]))\n",
    "model.add(Dropout(0.5))\n",
    "\n",
    "model.add(Dense(32, activation='relu', kernel_initializer='uniform'))\n",
    "model.add(Dropout(0.4))\n",
    "\n",
    "model.add(Dense(16, activation='relu', kernel_initializer='uniform'))\n",
    "model.add(Dropout(0.3))\n",
    "\n",
    "model.add(Dense(8, activation='relu', kernel_initializer='uniform'))\n",
    "model.add(Dropout(0.2))\n",
    "\n",
    "model.add(Dense(4, activation='relu', kernel_initializer='uniform'))\n",
    "model.add(Dropout(0.1))\n",
    "\n",
    "model.add(Dense(1, activation='sigmoid'))\n",
    "\n",
    "model.compile(optimizer='adam', metrics=['accuracy'], loss='binary_crossentropy')"
   ]
  },
  {
   "cell_type": "code",
   "execution_count": 11,
   "metadata": {},
   "outputs": [
    {
     "data": {
      "text/plain": [
       "<keras.callbacks.callbacks.History at 0x1c810bc2a88>"
      ]
     },
     "execution_count": 11,
     "metadata": {},
     "output_type": "execute_result"
    }
   ],
   "source": [
    "model.fit(X_train, y_train, batch_size=20, epochs=100, validation_split=0.2, verbose=0, shuffle=False)"
   ]
  },
  {
   "cell_type": "code",
   "execution_count": 28,
   "metadata": {},
   "outputs": [],
   "source": [
    "y_pred = model.predict(X_test)\n",
    "y_pred_prob = model.predict_proba(X_test)"
   ]
  },
  {
   "cell_type": "markdown",
   "metadata": {},
   "source": [
    "## Threshold = 0.5"
   ]
  },
  {
   "cell_type": "code",
   "execution_count": 39,
   "metadata": {},
   "outputs": [
    {
     "name": "stdout",
     "output_type": "stream",
     "text": [
      "[[11788     0]\n",
      " [  212     0]]\n"
     ]
    }
   ],
   "source": [
    "y_pred_class_1 = y_pred > 0.5\n",
    "cm = confusion_matrix(y_test, y_pred_class_1)\n",
    "print(cm)"
   ]
  },
  {
   "cell_type": "code",
   "execution_count": 30,
   "metadata": {},
   "outputs": [],
   "source": [
    "# True Negative\n",
    "TN = cm[0,0]\n",
    "# False Negative\n",
    "FN = cm[1,0]\n",
    "# False Positives\n",
    "FP = cm[0,1]\n",
    "# True Positives\n",
    "TP = cm[1,1]"
   ]
  },
  {
   "cell_type": "code",
   "execution_count": 31,
   "metadata": {},
   "outputs": [
    {
     "name": "stdout",
     "output_type": "stream",
     "text": [
      "Sensitivity: 0.0000\n"
     ]
    }
   ],
   "source": [
    "# Sensitivity\n",
    "Sensitivity = TP / (TP + FN)\n",
    "print(f'Sensitivity: {Sensitivity:.4f}')"
   ]
  },
  {
   "cell_type": "code",
   "execution_count": 32,
   "metadata": {},
   "outputs": [
    {
     "name": "stdout",
     "output_type": "stream",
     "text": [
      "Specificity: 1.0000\n"
     ]
    }
   ],
   "source": [
    "# Specificity\n",
    "Specificity = TN / (TN + FP)\n",
    "print(f'Specificity: {Specificity:.4f}')"
   ]
  },
  {
   "cell_type": "code",
   "execution_count": 36,
   "metadata": {},
   "outputs": [
    {
     "name": "stdout",
     "output_type": "stream",
     "text": [
      "Precision: nan\n"
     ]
    },
    {
     "name": "stderr",
     "output_type": "stream",
     "text": [
      "C:\\Users\\olavo\\anaconda3\\lib\\site-packages\\ipykernel_launcher.py:2: RuntimeWarning: invalid value encountered in longlong_scalars\n",
      "  \n"
     ]
    }
   ],
   "source": [
    "# Precision\n",
    "Precision = TP / (TP + FP)\n",
    "print(f'Precision: {Precision:.4f}')"
   ]
  },
  {
   "cell_type": "code",
   "execution_count": 37,
   "metadata": {},
   "outputs": [
    {
     "name": "stdout",
     "output_type": "stream",
     "text": [
      "False positive rate: 0.0000\n"
     ]
    }
   ],
   "source": [
    "# False positive rate\n",
    "False_Positive_rate = FP / (FP + TN)\n",
    "print(f'False positive rate: {False_Positive_rate:.4f}')"
   ]
  },
  {
   "cell_type": "markdown",
   "metadata": {},
   "source": [
    "## Threshold = 0.3"
   ]
  },
  {
   "cell_type": "code",
   "execution_count": 40,
   "metadata": {},
   "outputs": [
    {
     "name": "stdout",
     "output_type": "stream",
     "text": [
      "[[11709    79]\n",
      " [   54   158]]\n",
      "Sensitivity: 0.7453\n",
      "Specificity: 0.9933\n",
      "Precision: 0.6667\n",
      "False positive rate: 0.0067\n"
     ]
    }
   ],
   "source": [
    "y_pred_class_1 = y_pred > 0.3\n",
    "cm = confusion_matrix(y_test, y_pred_class_1)\n",
    "print(cm)\n",
    "\n",
    "# True Negative\n",
    "TN = cm[0,0]\n",
    "# False Negative\n",
    "FN = cm[1,0]\n",
    "# False Positives\n",
    "FP = cm[0,1]\n",
    "# True Positives\n",
    "TP = cm[1,1]\n",
    "\n",
    "# Sensitivity\n",
    "Sensitivity = TP / (TP + FN)\n",
    "print(f'Sensitivity: {Sensitivity:.4f}')\n",
    "\n",
    "# Specificity\n",
    "Specificity = TN / (TN + FP)\n",
    "print(f'Specificity: {Specificity:.4f}')\n",
    "\n",
    "# Precision\n",
    "Precision = TP / (TP + FP)\n",
    "print(f'Precision: {Precision:.4f}')\n",
    "\n",
    "# False positive rate\n",
    "False_Positive_rate = FP / (FP + TN)\n",
    "print(f'False positive rate: {False_Positive_rate:.4f}')"
   ]
  }
 ],
 "metadata": {
  "kernelspec": {
   "display_name": "Python 3",
   "language": "python",
   "name": "python3"
  },
  "language_info": {
   "codemirror_mode": {
    "name": "ipython",
    "version": 3
   },
   "file_extension": ".py",
   "mimetype": "text/x-python",
   "name": "python",
   "nbconvert_exporter": "python",
   "pygments_lexer": "ipython3",
   "version": "3.7.7"
  }
 },
 "nbformat": 4,
 "nbformat_minor": 4
}
