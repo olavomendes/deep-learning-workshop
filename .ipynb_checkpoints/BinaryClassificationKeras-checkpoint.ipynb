{
 "cells": [
  {
   "cell_type": "code",
   "execution_count": 17,
   "metadata": {},
   "outputs": [],
   "source": [
    "import pandas as pd\n",
    "import numpy as np\n",
    "import matplotlib.pyplot as plt\n",
    "\n",
    "from keras.models import Sequential\n",
    "from keras.layers import Dense, Activation\n",
    "\n",
    "from tensorflow import random"
   ]
  },
  {
   "cell_type": "code",
   "execution_count": 7,
   "metadata": {},
   "outputs": [
    {
     "name": "stdout",
     "output_type": "stream",
     "text": [
      "Número de exemplos no dataset =  10000\n",
      "Numero de features para cada exemplo =  10\n",
      "Possíveis classes de saída =  [0 1]\n"
     ]
    }
   ],
   "source": [
    "X = pd.read_csv('datasets/tree_class_feats.csv')\n",
    "y = pd.read_csv('datasets/tree_class_target.csv')\n",
    "\n",
    "print(\"Número de exemplos no dataset = \", X.shape[0])\n",
    "print(\"Numero de features para cada exemplo = \", X.shape[1]) \n",
    "print(\"Possíveis classes de saída = \", np.unique(y))"
   ]
  },
  {
   "cell_type": "code",
   "execution_count": 10,
   "metadata": {},
   "outputs": [],
   "source": [
    "np.random.seed(42)\n",
    "random.set_seed(42)"
   ]
  },
  {
   "cell_type": "code",
   "execution_count": 11,
   "metadata": {},
   "outputs": [],
   "source": [
    "model = Sequential()"
   ]
  },
  {
   "cell_type": "code",
   "execution_count": 14,
   "metadata": {},
   "outputs": [],
   "source": [
    "model.add(Dense(10, activation='tanh', input_dim=10))\n",
    "model.add(Dense(5, activation='tanh'))\n",
    "model.add(Dense(1, activation='sigmoid'))"
   ]
  },
  {
   "cell_type": "code",
   "execution_count": 22,
   "metadata": {},
   "outputs": [
    {
     "name": "stdout",
     "output_type": "stream",
     "text": [
      "Model: \"sequential_1\"\n",
      "_________________________________________________________________\n",
      "Layer (type)                 Output Shape              Param #   \n",
      "=================================================================\n",
      "dense_1 (Dense)              (None, 10)                110       \n",
      "_________________________________________________________________\n",
      "dense_2 (Dense)              (None, 5)                 55        \n",
      "_________________________________________________________________\n",
      "dense_3 (Dense)              (None, 1)                 6         \n",
      "=================================================================\n",
      "Total params: 171\n",
      "Trainable params: 171\n",
      "Non-trainable params: 0\n",
      "_________________________________________________________________\n"
     ]
    }
   ],
   "source": [
    "model.compile(optimizer='sgd', metrics=['accuracy'], loss='binary_crossentropy')\n",
    "model.summary()"
   ]
  },
  {
   "cell_type": "code",
   "execution_count": 23,
   "metadata": {},
   "outputs": [
    {
     "name": "stdout",
     "output_type": "stream",
     "text": [
      "Train on 8000 samples, validate on 2000 samples\n",
      "Epoch 1/100\n",
      "8000/8000 [==============================] - 2s 235us/step - loss: 0.1486 - accuracy: 0.9439 - val_loss: 0.1528 - val_accuracy: 0.9410\n",
      "Epoch 2/100\n",
      "8000/8000 [==============================] - 1s 174us/step - loss: 0.1484 - accuracy: 0.9441 - val_loss: 0.1528 - val_accuracy: 0.9405\n",
      "Epoch 3/100\n",
      "8000/8000 [==============================] - 1s 179us/step - loss: 0.1483 - accuracy: 0.9441 - val_loss: 0.1528 - val_accuracy: 0.9410\n",
      "Epoch 4/100\n",
      "8000/8000 [==============================] - 1s 162us/step - loss: 0.1481 - accuracy: 0.9445 - val_loss: 0.1529 - val_accuracy: 0.9420\n",
      "Epoch 5/100\n",
      "8000/8000 [==============================] - 1s 164us/step - loss: 0.1480 - accuracy: 0.9444 - val_loss: 0.1529 - val_accuracy: 0.9425\n",
      "Epoch 6/100\n",
      "8000/8000 [==============================] - 1s 183us/step - loss: 0.1479 - accuracy: 0.9445 - val_loss: 0.1529 - val_accuracy: 0.9430\n",
      "Epoch 7/100\n",
      "8000/8000 [==============================] - 1s 179us/step - loss: 0.1477 - accuracy: 0.9444 - val_loss: 0.1529 - val_accuracy: 0.9430\n",
      "Epoch 8/100\n",
      "8000/8000 [==============================] - 1s 184us/step - loss: 0.1476 - accuracy: 0.9442 - val_loss: 0.1530 - val_accuracy: 0.9440\n",
      "Epoch 9/100\n",
      "8000/8000 [==============================] - 1s 185us/step - loss: 0.1474 - accuracy: 0.9441 - val_loss: 0.1530 - val_accuracy: 0.9440\n",
      "Epoch 10/100\n",
      "8000/8000 [==============================] - 1s 180us/step - loss: 0.1473 - accuracy: 0.9442 - val_loss: 0.1531 - val_accuracy: 0.9440\n",
      "Epoch 11/100\n",
      "8000/8000 [==============================] - 2s 190us/step - loss: 0.1472 - accuracy: 0.9441 - val_loss: 0.1532 - val_accuracy: 0.9430\n",
      "Epoch 12/100\n",
      "8000/8000 [==============================] - 2s 219us/step - loss: 0.1471 - accuracy: 0.9442 - val_loss: 0.1532 - val_accuracy: 0.9425\n",
      "Epoch 13/100\n",
      "8000/8000 [==============================] - 1s 179us/step - loss: 0.1470 - accuracy: 0.9448 - val_loss: 0.1533 - val_accuracy: 0.9425\n",
      "Epoch 14/100\n",
      "8000/8000 [==============================] - 1s 182us/step - loss: 0.1468 - accuracy: 0.9448 - val_loss: 0.1534 - val_accuracy: 0.9430\n",
      "Epoch 15/100\n",
      "8000/8000 [==============================] - 1s 166us/step - loss: 0.1467 - accuracy: 0.9449 - val_loss: 0.1535 - val_accuracy: 0.9430\n",
      "Epoch 16/100\n",
      "8000/8000 [==============================] - 1s 182us/step - loss: 0.1466 - accuracy: 0.9448 - val_loss: 0.1536 - val_accuracy: 0.9430\n",
      "Epoch 17/100\n",
      "8000/8000 [==============================] - 1s 178us/step - loss: 0.1465 - accuracy: 0.9448 - val_loss: 0.1537 - val_accuracy: 0.9425\n",
      "Epoch 18/100\n",
      "8000/8000 [==============================] - 1s 172us/step - loss: 0.1464 - accuracy: 0.9450 - val_loss: 0.1538 - val_accuracy: 0.9420\n",
      "Epoch 19/100\n",
      "8000/8000 [==============================] - 1s 183us/step - loss: 0.1463 - accuracy: 0.9448 - val_loss: 0.1539 - val_accuracy: 0.9425\n",
      "Epoch 20/100\n",
      "8000/8000 [==============================] - 1s 186us/step - loss: 0.1462 - accuracy: 0.9446 - val_loss: 0.1540 - val_accuracy: 0.9420\n",
      "Epoch 21/100\n",
      "8000/8000 [==============================] - 1s 184us/step - loss: 0.1461 - accuracy: 0.9446 - val_loss: 0.1541 - val_accuracy: 0.9415\n",
      "Epoch 22/100\n",
      "8000/8000 [==============================] - 1s 180us/step - loss: 0.1461 - accuracy: 0.9445 - val_loss: 0.1542 - val_accuracy: 0.9420\n",
      "Epoch 23/100\n",
      "8000/8000 [==============================] - 2s 213us/step - loss: 0.1460 - accuracy: 0.9444 - val_loss: 0.1543 - val_accuracy: 0.9420\n",
      "Epoch 24/100\n",
      "8000/8000 [==============================] - 1s 171us/step - loss: 0.1459 - accuracy: 0.9446 - val_loss: 0.1543 - val_accuracy: 0.9415\n",
      "Epoch 25/100\n",
      "8000/8000 [==============================] - 2s 206us/step - loss: 0.1458 - accuracy: 0.9448 - val_loss: 0.1544 - val_accuracy: 0.9415\n",
      "Epoch 26/100\n",
      "8000/8000 [==============================] - 1s 184us/step - loss: 0.1457 - accuracy: 0.9446 - val_loss: 0.1545 - val_accuracy: 0.9410\n",
      "Epoch 27/100\n",
      "8000/8000 [==============================] - 1s 186us/step - loss: 0.1456 - accuracy: 0.9448 - val_loss: 0.1546 - val_accuracy: 0.9405\n",
      "Epoch 28/100\n",
      "8000/8000 [==============================] - 2s 222us/step - loss: 0.1456 - accuracy: 0.9448 - val_loss: 0.1547 - val_accuracy: 0.9405\n",
      "Epoch 29/100\n",
      "8000/8000 [==============================] - 1s 184us/step - loss: 0.1455 - accuracy: 0.9446 - val_loss: 0.1548 - val_accuracy: 0.9400\n",
      "Epoch 30/100\n",
      "8000/8000 [==============================] - 2s 212us/step - loss: 0.1454 - accuracy: 0.9442 - val_loss: 0.1549 - val_accuracy: 0.9405\n",
      "Epoch 31/100\n",
      "8000/8000 [==============================] - 1s 181us/step - loss: 0.1453 - accuracy: 0.9444 - val_loss: 0.1550 - val_accuracy: 0.9405\n",
      "Epoch 32/100\n",
      "8000/8000 [==============================] - 1s 185us/step - loss: 0.1452 - accuracy: 0.9446 - val_loss: 0.1550 - val_accuracy: 0.9405\n",
      "Epoch 33/100\n",
      "8000/8000 [==============================] - 2s 221us/step - loss: 0.1451 - accuracy: 0.9446 - val_loss: 0.1551 - val_accuracy: 0.9410\n",
      "Epoch 34/100\n",
      "8000/8000 [==============================] - 2s 191us/step - loss: 0.1450 - accuracy: 0.9446 - val_loss: 0.1552 - val_accuracy: 0.9405\n",
      "Epoch 35/100\n",
      "8000/8000 [==============================] - 2s 191us/step - loss: 0.1450 - accuracy: 0.9444 - val_loss: 0.1553 - val_accuracy: 0.9405\n",
      "Epoch 36/100\n",
      "8000/8000 [==============================] - 2s 203us/step - loss: 0.1449 - accuracy: 0.9442 - val_loss: 0.1554 - val_accuracy: 0.9415\n",
      "Epoch 37/100\n",
      "8000/8000 [==============================] - 2s 259us/step - loss: 0.1448 - accuracy: 0.9440 - val_loss: 0.1555 - val_accuracy: 0.9415\n",
      "Epoch 38/100\n",
      "8000/8000 [==============================] - 2s 258us/step - loss: 0.1447 - accuracy: 0.9435 - val_loss: 0.1556 - val_accuracy: 0.9415\n",
      "Epoch 39/100\n",
      "8000/8000 [==============================] - 2s 246us/step - loss: 0.1447 - accuracy: 0.9436 - val_loss: 0.1558 - val_accuracy: 0.9415\n",
      "Epoch 40/100\n",
      "8000/8000 [==============================] - 2s 202us/step - loss: 0.1446 - accuracy: 0.9440 - val_loss: 0.1559 - val_accuracy: 0.9415\n",
      "Epoch 41/100\n",
      "8000/8000 [==============================] - 1s 187us/step - loss: 0.1445 - accuracy: 0.9441 - val_loss: 0.1561 - val_accuracy: 0.9415\n",
      "Epoch 42/100\n",
      "8000/8000 [==============================] - 1s 187us/step - loss: 0.1444 - accuracy: 0.9442 - val_loss: 0.1562 - val_accuracy: 0.9415\n",
      "Epoch 43/100\n",
      "8000/8000 [==============================] - 2s 221us/step - loss: 0.1443 - accuracy: 0.9440 - val_loss: 0.1563 - val_accuracy: 0.9420\n",
      "Epoch 44/100\n",
      "8000/8000 [==============================] - 2s 201us/step - loss: 0.1442 - accuracy: 0.9444 - val_loss: 0.1564 - val_accuracy: 0.9420\n",
      "Epoch 45/100\n",
      "8000/8000 [==============================] - 1s 187us/step - loss: 0.1441 - accuracy: 0.9446 - val_loss: 0.1565 - val_accuracy: 0.9420\n",
      "Epoch 46/100\n",
      "8000/8000 [==============================] - 2s 209us/step - loss: 0.1440 - accuracy: 0.9448 - val_loss: 0.1566 - val_accuracy: 0.9415\n",
      "Epoch 47/100\n",
      "8000/8000 [==============================] - 2s 215us/step - loss: 0.1439 - accuracy: 0.9448 - val_loss: 0.1567 - val_accuracy: 0.9415\n",
      "Epoch 48/100\n",
      "8000/8000 [==============================] - 2s 196us/step - loss: 0.1438 - accuracy: 0.9449 - val_loss: 0.1567 - val_accuracy: 0.9415\n",
      "Epoch 49/100\n",
      "8000/8000 [==============================] - 2s 206us/step - loss: 0.1437 - accuracy: 0.9448 - val_loss: 0.1568 - val_accuracy: 0.9420\n",
      "Epoch 50/100\n",
      "8000/8000 [==============================] - 2s 195us/step - loss: 0.1436 - accuracy: 0.9451 - val_loss: 0.1568 - val_accuracy: 0.9425\n",
      "Epoch 51/100\n",
      "8000/8000 [==============================] - 1s 186us/step - loss: 0.1435 - accuracy: 0.9452 - val_loss: 0.1568 - val_accuracy: 0.9420\n",
      "Epoch 52/100\n",
      "8000/8000 [==============================] - 2s 225us/step - loss: 0.1434 - accuracy: 0.9454 - val_loss: 0.1568 - val_accuracy: 0.9415\n",
      "Epoch 53/100\n",
      "8000/8000 [==============================] - 2s 221us/step - loss: 0.1432 - accuracy: 0.9454 - val_loss: 0.1568 - val_accuracy: 0.9410\n",
      "Epoch 54/100\n",
      "8000/8000 [==============================] - 2s 223us/step - loss: 0.1431 - accuracy: 0.9456 - val_loss: 0.1568 - val_accuracy: 0.9410\n",
      "Epoch 55/100\n",
      "8000/8000 [==============================] - 2s 197us/step - loss: 0.1430 - accuracy: 0.9461 - val_loss: 0.1568 - val_accuracy: 0.9415\n",
      "Epoch 56/100\n",
      "8000/8000 [==============================] - 2s 217us/step - loss: 0.1428 - accuracy: 0.9460 - val_loss: 0.1568 - val_accuracy: 0.9420\n",
      "Epoch 57/100\n",
      "8000/8000 [==============================] - 2s 196us/step - loss: 0.1427 - accuracy: 0.9457 - val_loss: 0.1568 - val_accuracy: 0.9410\n",
      "Epoch 58/100\n",
      "8000/8000 [==============================] - 2s 228us/step - loss: 0.1426 - accuracy: 0.9456 - val_loss: 0.1568 - val_accuracy: 0.9405\n",
      "Epoch 59/100\n",
      "8000/8000 [==============================] - 2s 203us/step - loss: 0.1424 - accuracy: 0.9457 - val_loss: 0.1568 - val_accuracy: 0.9400\n",
      "Epoch 60/100\n",
      "8000/8000 [==============================] - 2s 197us/step - loss: 0.1423 - accuracy: 0.9463 - val_loss: 0.1567 - val_accuracy: 0.9400\n",
      "Epoch 61/100\n",
      "8000/8000 [==============================] - 1s 172us/step - loss: 0.1421 - accuracy: 0.9469 - val_loss: 0.1567 - val_accuracy: 0.9400\n",
      "Epoch 62/100\n",
      "8000/8000 [==============================] - 2s 191us/step - loss: 0.1419 - accuracy: 0.9476 - val_loss: 0.1566 - val_accuracy: 0.9405\n",
      "Epoch 63/100\n",
      "8000/8000 [==============================] - 1s 179us/step - loss: 0.1417 - accuracy: 0.9484 - val_loss: 0.1564 - val_accuracy: 0.9415\n",
      "Epoch 64/100\n",
      "8000/8000 [==============================] - 2s 251us/step - loss: 0.1415 - accuracy: 0.9486 - val_loss: 0.1563 - val_accuracy: 0.9415\n",
      "Epoch 65/100\n",
      "8000/8000 [==============================] - 2s 204us/step - loss: 0.1412 - accuracy: 0.9488 - val_loss: 0.1562 - val_accuracy: 0.9415\n",
      "Epoch 66/100\n",
      "8000/8000 [==============================] - 2s 217us/step - loss: 0.1410 - accuracy: 0.9489 - val_loss: 0.1561 - val_accuracy: 0.9410\n",
      "Epoch 67/100\n",
      "8000/8000 [==============================] - 2s 196us/step - loss: 0.1407 - accuracy: 0.9494 - val_loss: 0.1560 - val_accuracy: 0.9415\n",
      "Epoch 68/100\n",
      "8000/8000 [==============================] - 2s 218us/step - loss: 0.1405 - accuracy: 0.9494 - val_loss: 0.1558 - val_accuracy: 0.9405\n",
      "Epoch 69/100\n",
      "8000/8000 [==============================] - 2s 223us/step - loss: 0.1403 - accuracy: 0.9494 - val_loss: 0.1558 - val_accuracy: 0.9405\n",
      "Epoch 70/100\n",
      "8000/8000 [==============================] - 2s 225us/step - loss: 0.1401 - accuracy: 0.9498 - val_loss: 0.1557 - val_accuracy: 0.9415\n",
      "Epoch 71/100\n",
      "8000/8000 [==============================] - 2s 204us/step - loss: 0.1400 - accuracy: 0.9498 - val_loss: 0.1556 - val_accuracy: 0.9425\n",
      "Epoch 72/100\n",
      "8000/8000 [==============================] - 2s 204us/step - loss: 0.1398 - accuracy: 0.9499 - val_loss: 0.1556 - val_accuracy: 0.9430\n",
      "Epoch 73/100\n",
      "8000/8000 [==============================] - 2s 244us/step - loss: 0.1397 - accuracy: 0.9499 - val_loss: 0.1555 - val_accuracy: 0.9435\n",
      "Epoch 74/100\n",
      "8000/8000 [==============================] - 2s 228us/step - loss: 0.1397 - accuracy: 0.9499 - val_loss: 0.1555 - val_accuracy: 0.9430\n",
      "Epoch 75/100\n",
      "8000/8000 [==============================] - 2s 209us/step - loss: 0.1396 - accuracy: 0.9501 - val_loss: 0.1554 - val_accuracy: 0.9425\n",
      "Epoch 76/100\n",
      "8000/8000 [==============================] - 2s 240us/step - loss: 0.1395 - accuracy: 0.9501 - val_loss: 0.1554 - val_accuracy: 0.9425\n",
      "Epoch 77/100\n",
      "8000/8000 [==============================] - 2s 214us/step - loss: 0.1394 - accuracy: 0.9500 - val_loss: 0.1553 - val_accuracy: 0.9425\n",
      "Epoch 78/100\n",
      "8000/8000 [==============================] - 1s 182us/step - loss: 0.1394 - accuracy: 0.9500 - val_loss: 0.1553 - val_accuracy: 0.9425\n",
      "Epoch 79/100\n",
      "8000/8000 [==============================] - 1s 178us/step - loss: 0.1393 - accuracy: 0.9500 - val_loss: 0.1553 - val_accuracy: 0.9425\n",
      "Epoch 80/100\n",
      "8000/8000 [==============================] - 1s 175us/step - loss: 0.1393 - accuracy: 0.9501 - val_loss: 0.1553 - val_accuracy: 0.9425\n",
      "Epoch 81/100\n",
      "8000/8000 [==============================] - 2s 215us/step - loss: 0.1392 - accuracy: 0.9504 - val_loss: 0.1552 - val_accuracy: 0.9420\n",
      "Epoch 82/100\n",
      "8000/8000 [==============================] - 2s 198us/step - loss: 0.1392 - accuracy: 0.9506 - val_loss: 0.1552 - val_accuracy: 0.9420\n",
      "Epoch 83/100\n",
      "8000/8000 [==============================] - 2s 202us/step - loss: 0.1391 - accuracy: 0.9503 - val_loss: 0.1552 - val_accuracy: 0.9425\n",
      "Epoch 84/100\n",
      "8000/8000 [==============================] - 2s 193us/step - loss: 0.1391 - accuracy: 0.9503 - val_loss: 0.1552 - val_accuracy: 0.9420\n",
      "Epoch 85/100\n",
      "8000/8000 [==============================] - 2s 198us/step - loss: 0.1390 - accuracy: 0.9503 - val_loss: 0.1551 - val_accuracy: 0.9410\n",
      "Epoch 86/100\n",
      "8000/8000 [==============================] - 2s 189us/step - loss: 0.1390 - accuracy: 0.9503 - val_loss: 0.1551 - val_accuracy: 0.9410\n",
      "Epoch 87/100\n",
      "8000/8000 [==============================] - 2s 191us/step - loss: 0.1389 - accuracy: 0.9505 - val_loss: 0.1551 - val_accuracy: 0.9410\n",
      "Epoch 88/100\n",
      "8000/8000 [==============================] - 1s 178us/step - loss: 0.1389 - accuracy: 0.9505 - val_loss: 0.1551 - val_accuracy: 0.9410\n",
      "Epoch 89/100\n",
      "8000/8000 [==============================] - 2s 240us/step - loss: 0.1389 - accuracy: 0.9506 - val_loss: 0.1551 - val_accuracy: 0.9410\n",
      "Epoch 90/100\n",
      "8000/8000 [==============================] - 2s 197us/step - loss: 0.1388 - accuracy: 0.9507 - val_loss: 0.1551 - val_accuracy: 0.9410\n",
      "Epoch 91/100\n",
      "8000/8000 [==============================] - 2s 225us/step - loss: 0.1388 - accuracy: 0.9509 - val_loss: 0.1551 - val_accuracy: 0.9410\n",
      "Epoch 92/100\n",
      "8000/8000 [==============================] - 1s 185us/step - loss: 0.1387 - accuracy: 0.9509 - val_loss: 0.1550 - val_accuracy: 0.9410\n",
      "Epoch 93/100\n",
      "8000/8000 [==============================] - 2s 191us/step - loss: 0.1387 - accuracy: 0.9510 - val_loss: 0.1550 - val_accuracy: 0.9410\n",
      "Epoch 94/100\n",
      "8000/8000 [==============================] - 1s 178us/step - loss: 0.1387 - accuracy: 0.9510 - val_loss: 0.1550 - val_accuracy: 0.9410\n",
      "Epoch 95/100\n",
      "8000/8000 [==============================] - 1s 185us/step - loss: 0.1387 - accuracy: 0.9507 - val_loss: 0.1550 - val_accuracy: 0.9405\n",
      "Epoch 96/100\n",
      "8000/8000 [==============================] - 2s 194us/step - loss: 0.1386 - accuracy: 0.9507 - val_loss: 0.1550 - val_accuracy: 0.9405\n",
      "Epoch 97/100\n",
      "8000/8000 [==============================] - 2s 275us/step - loss: 0.1386 - accuracy: 0.9506 - val_loss: 0.1550 - val_accuracy: 0.9395\n",
      "Epoch 98/100\n",
      "8000/8000 [==============================] - 2s 204us/step - loss: 0.1386 - accuracy: 0.9506 - val_loss: 0.1550 - val_accuracy: 0.9395\n",
      "Epoch 99/100\n",
      "8000/8000 [==============================] - 2s 214us/step - loss: 0.1385 - accuracy: 0.9507 - val_loss: 0.1550 - val_accuracy: 0.9395\n",
      "Epoch 100/100\n",
      "8000/8000 [==============================] - 2s 237us/step - loss: 0.1385 - accuracy: 0.9507 - val_loss: 0.1550 - val_accuracy: 0.9395\n"
     ]
    }
   ],
   "source": [
    "history = model.fit(X, y, epochs=100, batch_size=5, validation_split=0.2, verbose=1, shuffle=False)"
   ]
  },
  {
   "cell_type": "code",
   "execution_count": 27,
   "metadata": {},
   "outputs": [
    {
     "data": {
      "image/png": "[encoded data removed]",
      "text/plain": [
       "<Figure size 1080x576 with 2 Axes>"
      ]
     },
     "metadata": {
      "needs_background": "light"
     },
     "output_type": "display_data"
    }
   ],
   "source": [
    "plt.figure(figsize=[15, 8])\n",
    "\n",
    "plt.subplot(1, 2, 1)\n",
    "plt.plot(history.history['accuracy'])\n",
    "plt.plot(history.history['val_accuracy'])\n",
    "plt.xlabel('Épocas')\n",
    "plt.ylabel('Acurácia')\n",
    "plt.title('Acurácia do modelo')\n",
    "plt.legend(['Treino', 'Validação'])\n",
    "\n",
    "plt.subplot(1, 2, 2)\n",
    "plt.plot(history.history['loss'])\n",
    "plt.plot(history.history['val_loss'])\n",
    "plt.xlabel('Épocas')\n",
    "plt.ylabel('Loss')\n",
    "plt.title('Loss do modelo')\n",
    "plt.legend(['Treino', 'Validação'])\n",
    "\n",
    "plt.show()"
   ]
  },
  {
   "cell_type": "code",
   "execution_count": 30,
   "metadata": {},
   "outputs": [
    {
     "data": {
      "text/plain": [
       "array([[0.],\n",
       "       [0.],\n",
       "       [0.],\n",
       "       [1.],\n",
       "       [1.],\n",
       "       [0.],\n",
       "       [1.],\n",
       "       [0.],\n",
       "       [0.],\n",
       "       [1.]], dtype=float32)"
      ]
     },
     "execution_count": 30,
     "metadata": {},
     "output_type": "execute_result"
    }
   ],
   "source": [
    "preds = model.predict(X.iloc[0:10, :])\n",
    "np.round(preds)"
   ]
  }
 ],
 "metadata": {
  "kernelspec": {
   "display_name": "Python 3",
   "language": "python",
   "name": "python3"
  },
  "language_info": {
   "codemirror_mode": {
    "name": "ipython",
    "version": 3
   },
   "file_extension": ".py",
   "mimetype": "text/x-python",
   "name": "python",
   "nbconvert_exporter": "python",
   "pygments_lexer": "ipython3",
   "version": "3.7.7"
  }
 },
 "nbformat": 4,
 "nbformat_minor": 4
}
