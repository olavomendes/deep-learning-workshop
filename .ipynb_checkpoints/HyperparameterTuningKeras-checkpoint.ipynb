{
 "cells": [
  {
   "cell_type": "code",
   "execution_count": 2,
   "metadata": {},
   "outputs": [
    {
     "name": "stderr",
     "output_type": "stream",
     "text": [
      "Using TensorFlow backend.\n"
     ]
    }
   ],
   "source": [
    "import pandas as pd\n",
    "import numpy as np\n",
    "\n",
    "from tensorflow import random\n",
    "\n",
    "from sklearn.model_selection import GridSearchCV\n",
    "\n",
    "from keras.wrappers.scikit_learn import KerasClassifier\n",
    "from keras.models import Sequential\n",
    "from keras.layers import Dense\n",
    "from keras.regularizers import l2"
   ]
  },
  {
   "cell_type": "code",
   "execution_count": 3,
   "metadata": {},
   "outputs": [],
   "source": [
    "X = pd.read_csv('datasets/avila-tr_feats.csv')\n",
    "y = pd.read_csv('datasets/avila-tr_target.csv')"
   ]
  },
  {
   "cell_type": "code",
   "execution_count": 10,
   "metadata": {},
   "outputs": [],
   "source": [
    "def build_model(lambda_param):\n",
    "    model = Sequential()\n",
    "    \n",
    "    model.add(Dense(10, activation='relu', kernel_regularizer=l2(lambda_param), input_dim=X.shape[1]))\n",
    "    model.add(Dense(6, activation='relu', kernel_regularizer=l2(lambda_param)))\n",
    "    model.add(Dense(4, activation='relu', kernel_regularizer=l2(lambda_param)))\n",
    "    model.add(Dense(1, activation='sigmoid'))\n",
    "    \n",
    "    model.compile(optimizer='sgd', loss = 'binary_crossentropy', metrics=['accuracy'])\n",
    "    \n",
    "    return model"
   ]
  },
  {
   "cell_type": "markdown",
   "metadata": {},
   "source": [
    "## Modelo 1"
   ]
  },
  {
   "cell_type": "code",
   "execution_count": 11,
   "metadata": {},
   "outputs": [],
   "source": [
    "seed = 1\n",
    "np.random.seed(seed)\n",
    "random.set_seed(seed)\n",
    "\n",
    "model = KerasClassifier(build_fn=build_model, verbose=0, shuffle=False)\n",
    "\n",
    "lambda_param = [0.01, 0.5, 1]\n",
    "epochs = [50, 100]\n",
    "batch_size = [20]\n",
    "\n",
    "params = dict(lambda_param=lambda_param, epochs=epochs, batch_size=batch_size)\n",
    "\n",
    "grid_search = GridSearchCV(estimator=model, param_grid=params, cv=5)\n",
    "result_1 = grid_search.fit(X, y)"
   ]
  },
  {
   "cell_type": "code",
   "execution_count": 12,
   "metadata": {},
   "outputs": [
    {
     "name": "stdout",
     "output_type": "stream",
     "text": [
      "Melhor CV score: 0.7738255023956299\n",
      "Melhores parâmetros: {'batch_size': 20, 'epochs': 100, 'lambda_param': 0.01}\n"
     ]
    }
   ],
   "source": [
    "print('Melhor CV score:', result_1.best_score_)\n",
    "print('Melhores parâmetros:', result_1.best_params_)"
   ]
  },
  {
   "cell_type": "markdown",
   "metadata": {},
   "source": [
    "## Modelo 2"
   ]
  },
  {
   "cell_type": "code",
   "execution_count": 14,
   "metadata": {},
   "outputs": [
    {
     "ename": "AttributeError",
     "evalue": "'GridSearchCV' object has no attribute 'best_score'",
     "output_type": "error",
     "traceback": [
      "\u001b[1;31m---------------------------------------------------------------------------\u001b[0m",
      "\u001b[1;31mAttributeError\u001b[0m                            Traceback (most recent call last)",
      "\u001b[1;32m<ipython-input-14-f8ba53b4e822>\u001b[0m in \u001b[0;36m<module>\u001b[1;34m\u001b[0m\n\u001b[0;32m     13\u001b[0m \u001b[0mresult_2\u001b[0m \u001b[1;33m=\u001b[0m \u001b[0mgrid_search\u001b[0m\u001b[1;33m.\u001b[0m\u001b[0mfit\u001b[0m\u001b[1;33m(\u001b[0m\u001b[0mX\u001b[0m\u001b[1;33m,\u001b[0m \u001b[0my\u001b[0m\u001b[1;33m)\u001b[0m\u001b[1;33m\u001b[0m\u001b[1;33m\u001b[0m\u001b[0m\n\u001b[0;32m     14\u001b[0m \u001b[1;33m\u001b[0m\u001b[0m\n\u001b[1;32m---> 15\u001b[1;33m \u001b[0mprint\u001b[0m\u001b[1;33m(\u001b[0m\u001b[1;34m'Melhor CV score: '\u001b[0m\u001b[1;33m,\u001b[0m \u001b[0mresult_2\u001b[0m\u001b[1;33m.\u001b[0m\u001b[0mbest_score\u001b[0m\u001b[1;33m)\u001b[0m\u001b[1;33m\u001b[0m\u001b[1;33m\u001b[0m\u001b[0m\n\u001b[0m\u001b[0;32m     16\u001b[0m \u001b[0mprint\u001b[0m\u001b[1;33m(\u001b[0m\u001b[1;34m'Melhores parâmetros: '\u001b[0m\u001b[1;33m,\u001b[0m \u001b[0mresult_2\u001b[0m\u001b[1;33m.\u001b[0m\u001b[0mbest_params\u001b[0m\u001b[1;33m)\u001b[0m\u001b[1;33m\u001b[0m\u001b[1;33m\u001b[0m\u001b[0m\n",
      "\u001b[1;31mAttributeError\u001b[0m: 'GridSearchCV' object has no attribute 'best_score'"
     ]
    }
   ],
   "source": [
    "np.random.seed(seed)\n",
    "random.set_seed(seed)\n",
    "\n",
    "model = KerasClassifier(build_fn=build_model, verbose=0, shuffle=False)\n",
    "\n",
    "lambda_param = [0.001, 0.01, 0.05, 0.1]\n",
    "batch_size = [20]\n",
    "epochs = [100]\n",
    "\n",
    "params = dict(lambda_param=lambda_param, batch_size=batch_size, epochs=epochs)\n",
    "\n",
    "grid_search = GridSearchCV(estimator=model, param_grid=params, cv=5)\n",
    "result_2 = grid_search.fit(X, y)"
   ]
  },
  {
   "cell_type": "code",
   "execution_count": 15,
   "metadata": {
    "collapsed": true,
    "jupyter": {
     "outputs_hidden": true
    }
   },
   "outputs": [
    {
     "name": "stdout",
     "output_type": "stream",
     "text": [
      "Melhor CV score:  0.791562807559967\n",
      "Melhores parâmetros:  {'batch_size': 20, 'epochs': 100, 'lambda_param': 0.001}\n"
     ]
    }
   ],
   "source": [
    "print('Melhor CV score: ', result_2.best_score_)\n",
    "print('Melhores parâmetros: ', result_2.best_params_)"
   ]
  },
  {
   "cell_type": "markdown",
   "metadata": {},
   "source": [
    "## Modelo 3 (TESTE PESSOAL)"
   ]
  },
  {
   "cell_type": "code",
   "execution_count": 6,
   "metadata": {},
   "outputs": [],
   "source": [
    "def build_model(lambda_param):\n",
    "    model = Sequential()\n",
    "    \n",
    "    model.add(Dense(10, activation='relu', kernel_regularizer=l2(lambda_param), input_dim=X.shape[1]))\n",
    "    model.add(Dense(6, activation='relu', kernel_regularizer=l2(lambda_param)))\n",
    "    model.add(Dense(4, activation='relu', kernel_regularizer=l2(lambda_param)))\n",
    "    model.add(Dense(1, activation='sigmoid'))\n",
    "    \n",
    "    model.compile(optimizer='sgd', metrics=['accuracy'], loss='binary_crossentropy')\n",
    "    \n",
    "    return model"
   ]
  },
  {
   "cell_type": "code",
   "execution_count": 7,
   "metadata": {},
   "outputs": [],
   "source": [
    "seed = 42\n",
    "np.random.seed(seed)\n",
    "random.set_seed(seed)\n",
    "\n",
    "model = KerasClassifier(build_fn=build_model, verbose=0, shuffle=False)\n",
    "\n",
    "lambda_param = [0.001, 0.01, 0.05, 0.1]\n",
    "batch_size = [20]\n",
    "epochs = [100]\n",
    "\n",
    "params = dict(lambda_param=lambda_param, batch_size=batch_size, epochs=epochs)\n",
    "\n",
    "grid_search = GridSearchCV(estimator=model, param_grid=params, cv=5)\n",
    "result_3 = grid_search.fit(X, y)"
   ]
  },
  {
   "cell_type": "code",
   "execution_count": 8,
   "metadata": {},
   "outputs": [
    {
     "name": "stdout",
     "output_type": "stream",
     "text": [
      "Melhor CV Score:  0.794822633266449\n",
      "Melhores parâmetros:  {'batch_size': 20, 'epochs': 100, 'lambda_param': 0.001}\n"
     ]
    }
   ],
   "source": [
    "print('Melhor CV Score: ', result_3.best_score_)\n",
    "print('Melhores parâmetros: ', result_3.best_params_)"
   ]
  },
  {
   "cell_type": "code",
   "execution_count": null,
   "metadata": {},
   "outputs": [],
   "source": []
  }
 ],
 "metadata": {
  "kernelspec": {
   "display_name": "Python 3",
   "language": "python",
   "name": "python3"
  },
  "language_info": {
   "codemirror_mode": {
    "name": "ipython",
    "version": 3
   },
   "file_extension": ".py",
   "mimetype": "text/x-python",
   "name": "python",
   "nbconvert_exporter": "python",
   "pygments_lexer": "ipython3",
   "version": "3.7.7"
  }
 },
 "nbformat": 4,
 "nbformat_minor": 4
}
