{
 "cells": [
  {
   "cell_type": "code",
   "execution_count": 6,
   "metadata": {},
   "outputs": [],
   "source": [
    "import pandas as pd\n",
    "import numpy as np\n",
    "\n",
    "from keras.models import Sequential\n",
    "from keras.layers import Dense\n",
    "from keras.wrappers.scikit_learn import KerasRegressor\n",
    "\n",
    "from sklearn.model_selection import KFold, cross_val_score\n",
    "\n",
    "from tensorflow import random"
   ]
  },
  {
   "cell_type": "code",
   "execution_count": 2,
   "metadata": {},
   "outputs": [],
   "source": [
    "colnames = ['CIC0', 'SM1_Dz(Z)', 'GATS1i', 'NdsCH', 'NdssC','MLOGP', 'LC50']\n",
    "data = pd.read_csv('datasets/qsar_fish_toxicity.csv', sep=';', names=colnames)"
   ]
  },
  {
   "cell_type": "code",
   "execution_count": 3,
   "metadata": {},
   "outputs": [],
   "source": [
    "X = data.drop('LC50', axis=1)\n",
    "y = data['LC50']"
   ]
  },
  {
   "cell_type": "code",
   "execution_count": 5,
   "metadata": {},
   "outputs": [],
   "source": [
    "def build_model_1():\n",
    "    model = Sequential()\n",
    "    \n",
    "    model.add(Dense(4, activation='relu', input_dim=X.shape[1]))\n",
    "    model.add(Dense(1))\n",
    "    \n",
    "    model.compile(optimizer='adam', loss='mean_squared_error')\n",
    "    \n",
    "    return model\n",
    "\n",
    "def build_model_2():\n",
    "    model = Sequential()\n",
    "    \n",
    "    model.add(Dense(8, activation='relu', input_dim=X.shape[1]))\n",
    "    model.add(Dense(1))\n",
    "    \n",
    "    model.compile(optimizer='adam', loss='mean_squared_error')\n",
    "    \n",
    "    return model\n",
    "\n",
    "def build_model_3():\n",
    "    model = Sequential()\n",
    "    \n",
    "    model.add(Dense(4, activation='relu', input_dim=X.shape[1]))\n",
    "    model.add(Dense(4, activation='relu'))\n",
    "    model.add(Dense(1))\n",
    "    \n",
    "    model.compile(optimizer='adam', loss='mean_squared_error')\n",
    "    \n",
    "    return model"
   ]
  },
  {
   "cell_type": "code",
   "execution_count": 7,
   "metadata": {},
   "outputs": [],
   "source": [
    "seed = 1\n",
    "np.random.seed(seed)\n",
    "random.set_seed(seed)"
   ]
  },
  {
   "cell_type": "code",
   "execution_count": 8,
   "metadata": {},
   "outputs": [],
   "source": [
    "results_1 = []\n",
    "\n",
    "models = [build_model_1, build_model_2, build_model_3]\n",
    "\n",
    "for model in range(len(models)):\n",
    "    model = KerasRegressor(build_fn=models[model], batch_size=20, epochs=100, verbose=0, shuffle=False)\n",
    "    \n",
    "    kf = KFold(n_splits=3)\n",
    "    result = cross_val_score(model, X, y, cv=kf)\n",
    "    \n",
    "    results_1.append(result)"
   ]
  },
  {
   "cell_type": "code",
   "execution_count": 9,
   "metadata": {},
   "outputs": [
    {
     "name": "stdout",
     "output_type": "stream",
     "text": [
      "Cross-Validation Loss do Modelo 1 = 1.030479402851683\n",
      "Cross-Validation Loss do Modelo 2 = 0.9583349300839368\n",
      "Cross-Validation Loss do Modelo 3 = 0.9740844359134707\n"
     ]
    }
   ],
   "source": [
    "print(\"Cross-Validation Loss do Modelo 1 =\", abs(results_1[0].mean()))\n",
    "print(\"Cross-Validation Loss do Modelo 2 =\", abs(results_1[1].mean()))\n",
    "print(\"Cross-Validation Loss do Modelo 3 =\", abs(results_1[2].mean()))"
   ]
  },
  {
   "cell_type": "code",
   "execution_count": 10,
   "metadata": {},
   "outputs": [],
   "source": [
    "np.random.seed(seed)\n",
    "random.set_seed(seed)\n",
    "\n",
    "results_2 = []\n",
    "epochs = [100, 150]\n",
    "batches = [15, 20]\n",
    "\n",
    "for e in range(len(epochs)):\n",
    "    for b in range(len(batches)):\n",
    "        model = KerasRegressor(build_fn=build_model_2, batch_size=batches[b], epochs=epochs[e], verbose=0, shuffle=False)\n",
    "        \n",
    "        kf = KFold(n_splits=3)\n",
    "        result = cross_val_score(model, X, y, cv=kf)\n",
    "        results_2.append(result)"
   ]
  },
  {
   "cell_type": "code",
   "execution_count": 22,
   "metadata": {},
   "outputs": [
    {
     "name": "stdout",
     "output_type": "stream",
     "text": [
      "Batch_size = 15 , Epochs = 100 , Loss no teste =  0.9382871842186092\n",
      "Batch_size = 20 , Epochs = 100 , Loss no teste =  0.9582501313525756\n",
      "Batch_size = 15 , Epochs = 150 , Loss no teste =  0.8939150340429367\n",
      "Batch_size = 20 , Epochs = 150 , Loss no teste =  0.9527814686270144\n"
     ]
    }
   ],
   "source": [
    "c = 0\n",
    "\n",
    "for e in range(len(epochs)):\n",
    "    for b in range(len(batches)):\n",
    "        print('Batch_size =', batches[b],', ' 'Epochs =', epochs[e],', ' 'Loss no teste = ', abs(results_2[c].mean()))\n",
    "        c += 1"
   ]
  },
  {
   "cell_type": "code",
   "execution_count": 23,
   "metadata": {},
   "outputs": [],
   "source": [
    "def build_model_2(activation='relu', optimizer='adam'):\n",
    "    model = Sequential()\n",
    "    \n",
    "    model.add(Dense(8, activation=activation, input_dim=X.shape[1]))\n",
    "    model.add(Dense(1))\n",
    "    \n",
    "    model.compile(optimizer=optimizer, loss='mean_squared_error')\n",
    "    \n",
    "    return model"
   ]
  },
  {
   "cell_type": "code",
   "execution_count": 24,
   "metadata": {},
   "outputs": [],
   "source": [
    "results_3 = []\n",
    "activations = ['relu', 'tanh']\n",
    "optimizers = ['sgd', 'adam', 'rmsprop']\n",
    "\n",
    "np.random.seed(seed)\n",
    "random.set_seed(seed)\n",
    "\n",
    "for o in range(len(optimizers)):\n",
    "    for a in range(len(activations)):\n",
    "        optimizer = optimizers[o]\n",
    "        activation = activations[a]\n",
    "        \n",
    "        model = KerasRegressor(build_fn=build_model_2, epochs = 100, batch_size=20, verbose=0, shuffle=False)\n",
    "        \n",
    "        kf = KFold(n_splits=3)\n",
    "        \n",
    "        result = cross_val_score(model, X, y, cv=kf)\n",
    "        results_3.append(result)"
   ]
  },
  {
   "cell_type": "code",
   "execution_count": 27,
   "metadata": {},
   "outputs": [
    {
     "name": "stdout",
     "output_type": "stream",
     "text": [
      "Activation = relu , Optimizer = sgd , Loss no test = 0.9572524036535927\n",
      "Activation = tanh , Optimizer = sgd , Loss no test = 0.9582640252745939\n",
      "Activation = relu , Optimizer = adam , Loss no test = 0.9006734350314405\n",
      "Activation = tanh , Optimizer = adam , Loss no test = 0.9858099008546614\n",
      "Activation = relu , Optimizer = rmsprop , Loss no test = 0.9365009631216058\n",
      "Activation = tanh , Optimizer = rmsprop , Loss no test = 0.9717393287848438\n"
     ]
    }
   ],
   "source": [
    "c = 0\n",
    "\n",
    "for o in range(len(optimizers)):\n",
    "    for a in range(len(activations)):\n",
    "        print('Activation =', activations[a],',', 'Optimizer =', optimizers[o], ',', 'Loss no test =', abs(results_3[c].mean()))\n",
    "        c += 1"
   ]
  },
  {
   "cell_type": "code",
   "execution_count": null,
   "metadata": {},
   "outputs": [],
   "source": []
  }
 ],
 "metadata": {
  "kernelspec": {
   "display_name": "Python 3",
   "language": "python",
   "name": "python3"
  },
  "language_info": {
   "codemirror_mode": {
    "name": "ipython",
    "version": 3
   },
   "file_extension": ".py",
   "mimetype": "text/x-python",
   "name": "python",
   "nbconvert_exporter": "python",
   "pygments_lexer": "ipython3",
   "version": "3.7.7"
  }
 },
 "nbformat": 4,
 "nbformat_minor": 4
}
