{
 "cells": [
  {
   "cell_type": "code",
   "execution_count": 17,
   "metadata": {},
   "outputs": [],
   "source": [
    "import numpy as np\n",
    "from keras.models import Sequential\n",
    "from keras.layers import Conv2D, MaxPooling2D, Flatten, Dense\n",
    "from keras.preprocessing.image import ImageDataGenerator\n",
    "from keras.preprocessing import image"
   ]
  },
  {
   "cell_type": "code",
   "execution_count": 2,
   "metadata": {},
   "outputs": [],
   "source": [
    "classifier = Sequential()"
   ]
  },
  {
   "cell_type": "code",
   "execution_count": 5,
   "metadata": {},
   "outputs": [],
   "source": [
    "classifier.add(Conv2D(32, (3, 3), input_shape=(64, 64, 3), activation='relu'))\n",
    "classifier.add(MaxPooling2D(2, 2))\n",
    "\n",
    "classifier.add(Conv2D(32, (3, 3), activation='relu'))\n",
    "classifier.add(MaxPooling2D(2, 2))"
   ]
  },
  {
   "cell_type": "code",
   "execution_count": 6,
   "metadata": {},
   "outputs": [],
   "source": [
    "classifier.add(Flatten())"
   ]
  },
  {
   "cell_type": "code",
   "execution_count": 7,
   "metadata": {},
   "outputs": [],
   "source": [
    "classifier.add(Dense(128, activation='relu'))\n",
    "classifier.add(Dense(128, activation='relu'))\n",
    "classifier.add(Dense(1, activation='sigmoid'))"
   ]
  },
  {
   "cell_type": "code",
   "execution_count": 8,
   "metadata": {},
   "outputs": [],
   "source": [
    "classifier.compile(optimizer='adam', metrics=['accuracy'], loss='binary_crossentropy')"
   ]
  },
  {
   "cell_type": "code",
   "execution_count": 9,
   "metadata": {},
   "outputs": [],
   "source": [
    "train_data_gen = ImageDataGenerator(rescale=1./255,\n",
    "                                   rotation_range=7,\n",
    "                                   shear_range=0.2,\n",
    "                                   zoom_range=0.2,\n",
    "                                   height_shift_range=0.07)\n",
    "test_data_gen = ImageDataGenerator(rescale=1./255)"
   ]
  },
  {
   "cell_type": "code",
   "execution_count": 10,
   "metadata": {},
   "outputs": [
    {
     "name": "stdout",
     "output_type": "stream",
     "text": [
      "Found 196 images belonging to 2 classes.\n",
      "Found 73 images belonging to 2 classes.\n"
     ]
    }
   ],
   "source": [
    "training_data = train_data_gen.flow_from_directory('datasets/personagens/dataset_personagens/training_set',\n",
    "                                                   target_size=(64, 64),\n",
    "                                                   batch_size=10,\n",
    "                                                   class_mode='binary')\n",
    "test_data = test_data_gen.flow_from_directory('datasets/personagens/dataset_personagens/test_set',\n",
    "                                             target_size=(64, 64),\n",
    "                                             batch_size=10,\n",
    "                                             class_mode='binary')"
   ]
  },
  {
   "cell_type": "code",
   "execution_count": 11,
   "metadata": {},
   "outputs": [
    {
     "name": "stdout",
     "output_type": "stream",
     "text": [
      "Epoch 1/100\n",
      "196/196 [==============================] - 15s 74ms/step - loss: 0.4211 - accuracy: 0.7879 - val_loss: 0.3678 - val_accuracy: 0.8756\n",
      "Epoch 2/100\n",
      "196/196 [==============================] - 14s 69ms/step - loss: 0.1494 - accuracy: 0.9411 - val_loss: 0.5928 - val_accuracy: 0.8381\n",
      "Epoch 3/100\n",
      "196/196 [==============================] - 13s 67ms/step - loss: 0.0791 - accuracy: 0.9698 - val_loss: 1.8746e-04 - val_accuracy: 0.8936\n",
      "Epoch 4/100\n",
      "196/196 [==============================] - 14s 70ms/step - loss: 0.0510 - accuracy: 0.9849 - val_loss: 0.9566 - val_accuracy: 0.8606\n",
      "Epoch 5/100\n",
      "196/196 [==============================] - 13s 67ms/step - loss: 0.0090 - accuracy: 0.9979 - val_loss: 1.6551 - val_accuracy: 0.8321\n",
      "Epoch 6/100\n",
      "196/196 [==============================] - 14s 69ms/step - loss: 0.0251 - accuracy: 0.9938 - val_loss: 0.0052 - val_accuracy: 0.8891\n",
      "Epoch 7/100\n",
      "196/196 [==============================] - 14s 69ms/step - loss: 0.0315 - accuracy: 0.9901 - val_loss: 0.4524 - val_accuracy: 0.8816\n",
      "Epoch 8/100\n",
      "196/196 [==============================] - 13s 69ms/step - loss: 0.0096 - accuracy: 0.9979 - val_loss: 1.8436 - val_accuracy: 0.8333\n",
      "Epoch 9/100\n",
      "196/196 [==============================] - 14s 71ms/step - loss: 0.0051 - accuracy: 0.9984 - val_loss: 0.0114 - val_accuracy: 0.8786\n",
      "Epoch 10/100\n",
      "196/196 [==============================] - 13s 69ms/step - loss: 0.0223 - accuracy: 0.9932 - val_loss: 0.0843 - val_accuracy: 0.9010\n",
      "Epoch 11/100\n",
      "196/196 [==============================] - 14s 71ms/step - loss: 0.0246 - accuracy: 0.9922 - val_loss: 3.3082 - val_accuracy: 0.8456\n",
      "Epoch 12/100\n",
      "196/196 [==============================] - 14s 71ms/step - loss: 0.0390 - accuracy: 0.9875 - val_loss: 1.7957 - val_accuracy: 0.9220\n",
      "Epoch 13/100\n",
      "196/196 [==============================] - 14s 74ms/step - loss: 0.0110 - accuracy: 0.9969 - val_loss: 0.0044 - val_accuracy: 0.8486\n",
      "Epoch 14/100\n",
      "196/196 [==============================] - 14s 70ms/step - loss: 2.7177e-04 - accuracy: 1.0000 - val_loss: 0.4977 - val_accuracy: 0.8351\n",
      "Epoch 15/100\n",
      "196/196 [==============================] - 14s 69ms/step - loss: 0.0196 - accuracy: 0.9911 - val_loss: 1.6656 - val_accuracy: 0.8741\n",
      "Epoch 16/100\n",
      "196/196 [==============================] - 14s 69ms/step - loss: 9.6073e-04 - accuracy: 1.0000 - val_loss: 1.3198 - val_accuracy: 0.8909\n",
      "Epoch 17/100\n",
      "196/196 [==============================] - 14s 73ms/step - loss: 3.6731e-04 - accuracy: 1.0000 - val_loss: 4.4207 - val_accuracy: 0.8996\n",
      "Epoch 18/100\n",
      "196/196 [==============================] - 14s 74ms/step - loss: 1.0269e-04 - accuracy: 1.0000 - val_loss: 1.2554 - val_accuracy: 0.8786\n",
      "Epoch 19/100\n",
      "196/196 [==============================] - 14s 71ms/step - loss: 3.2622e-05 - accuracy: 1.0000 - val_loss: 0.7150 - val_accuracy: 0.8801\n",
      "Epoch 20/100\n",
      "196/196 [==============================] - 14s 71ms/step - loss: 5.4541e-05 - accuracy: 1.0000 - val_loss: 1.6787 - val_accuracy: 0.8726\n",
      "Epoch 21/100\n",
      "196/196 [==============================] - 14s 71ms/step - loss: 0.0445 - accuracy: 0.9901 - val_loss: 0.4793 - val_accuracy: 0.8081\n",
      "Epoch 22/100\n",
      "196/196 [==============================] - 14s 72ms/step - loss: 0.0626 - accuracy: 0.9766 - val_loss: 0.1666 - val_accuracy: 0.8351\n",
      "Epoch 23/100\n",
      "196/196 [==============================] - 14s 72ms/step - loss: 0.0023 - accuracy: 0.9995 - val_loss: 6.4483e-05 - val_accuracy: 0.8531\n",
      "Epoch 24/100\n",
      "196/196 [==============================] - 14s 70ms/step - loss: 0.0278 - accuracy: 0.9922 - val_loss: 7.3823e-06 - val_accuracy: 0.8212\n",
      "Epoch 25/100\n",
      "196/196 [==============================] - 13s 68ms/step - loss: 0.0172 - accuracy: 0.9948 - val_loss: 0.1485 - val_accuracy: 0.8501\n",
      "Epoch 26/100\n",
      "196/196 [==============================] - 15s 78ms/step - loss: 0.0108 - accuracy: 0.9969 - val_loss: 0.0285 - val_accuracy: 0.8246\n",
      "Epoch 27/100\n",
      "196/196 [==============================] - 15s 76ms/step - loss: 0.0016 - accuracy: 0.9995 - val_loss: 1.6773 - val_accuracy: 0.7811\n",
      "Epoch 28/100\n",
      "196/196 [==============================] - 14s 73ms/step - loss: 0.0087 - accuracy: 0.9974 - val_loss: 4.8529 - val_accuracy: 0.8321\n",
      "Epoch 29/100\n",
      "196/196 [==============================] - 15s 77ms/step - loss: 2.0265e-04 - accuracy: 1.0000 - val_loss: 0.5341 - val_accuracy: 0.8201\n",
      "Epoch 30/100\n",
      "196/196 [==============================] - 15s 76ms/step - loss: 3.0852e-04 - accuracy: 1.0000 - val_loss: 0.0608 - val_accuracy: 0.8756\n",
      "Epoch 31/100\n",
      "196/196 [==============================] - 14s 73ms/step - loss: 9.2909e-05 - accuracy: 1.0000 - val_loss: 0.2268 - val_accuracy: 0.8336\n",
      "Epoch 32/100\n",
      "196/196 [==============================] - 14s 71ms/step - loss: 6.6531e-05 - accuracy: 1.0000 - val_loss: 7.9379e-08 - val_accuracy: 0.8364\n",
      "Epoch 33/100\n",
      "196/196 [==============================] - 18s 90ms/step - loss: 3.7440e-05 - accuracy: 1.0000 - val_loss: 2.3606 - val_accuracy: 0.8501\n",
      "Epoch 34/100\n",
      "196/196 [==============================] - 18s 93ms/step - loss: 1.3474e-05 - accuracy: 1.0000 - val_loss: 2.2171 - val_accuracy: 0.8486\n",
      "Epoch 35/100\n",
      "196/196 [==============================] - 15s 78ms/step - loss: 3.4343e-05 - accuracy: 1.0000 - val_loss: 1.6581 - val_accuracy: 0.8666\n",
      "Epoch 36/100\n",
      "196/196 [==============================] - 16s 81ms/step - loss: 0.0201 - accuracy: 0.9953 - val_loss: 0.4741 - val_accuracy: 0.8096\n",
      "Epoch 37/100\n",
      "196/196 [==============================] - 15s 75ms/step - loss: 0.0088 - accuracy: 0.9958 - val_loss: 1.4080 - val_accuracy: 0.8471\n",
      "Epoch 38/100\n",
      "196/196 [==============================] - 15s 77ms/step - loss: 1.1713e-04 - accuracy: 1.0000 - val_loss: 1.0254 - val_accuracy: 0.8621\n",
      "Epoch 39/100\n",
      "196/196 [==============================] - 14s 73ms/step - loss: 7.2359e-05 - accuracy: 1.0000 - val_loss: 0.7303 - val_accuracy: 0.8621\n",
      "Epoch 40/100\n",
      "196/196 [==============================] - 16s 82ms/step - loss: 0.0184 - accuracy: 0.9948 - val_loss: 9.6610e-09 - val_accuracy: 0.8636\n",
      "Epoch 41/100\n",
      "196/196 [==============================] - 14s 73ms/step - loss: 1.1136e-04 - accuracy: 1.0000 - val_loss: 0.0115 - val_accuracy: 0.8786\n",
      "Epoch 42/100\n",
      "196/196 [==============================] - 16s 80ms/step - loss: 4.0108e-05 - accuracy: 1.0000 - val_loss: 6.2014e-06 - val_accuracy: 0.8771\n",
      "Epoch 43/100\n",
      "196/196 [==============================] - 14s 72ms/step - loss: 8.0720e-05 - accuracy: 1.0000 - val_loss: 4.5450 - val_accuracy: 0.8741\n",
      "Epoch 44/100\n",
      "196/196 [==============================] - 14s 71ms/step - loss: 4.2504e-05 - accuracy: 1.0000 - val_loss: 6.4376 - val_accuracy: 0.8741\n",
      "Epoch 45/100\n",
      "196/196 [==============================] - 14s 72ms/step - loss: 4.1589e-05 - accuracy: 1.0000 - val_loss: 1.4331 - val_accuracy: 0.8621\n",
      "Epoch 46/100\n",
      "196/196 [==============================] - 15s 75ms/step - loss: 0.0209 - accuracy: 0.9948 - val_loss: 1.4091 - val_accuracy: 0.8606\n",
      "Epoch 47/100\n",
      "196/196 [==============================] - 14s 71ms/step - loss: 0.0247 - accuracy: 0.9948 - val_loss: 4.7170e-05 - val_accuracy: 0.8381\n",
      "Epoch 48/100\n",
      "196/196 [==============================] - 14s 73ms/step - loss: 0.0511 - accuracy: 0.9870 - val_loss: 0.0252 - val_accuracy: 0.9288\n",
      "Epoch 49/100\n",
      "196/196 [==============================] - 14s 72ms/step - loss: 0.0023 - accuracy: 0.9995 - val_loss: 0.2632 - val_accuracy: 0.9310\n",
      "Epoch 50/100\n",
      "196/196 [==============================] - 15s 74ms/step - loss: 0.0152 - accuracy: 0.9953 - val_loss: 0.9167 - val_accuracy: 0.8741\n",
      "Epoch 51/100\n",
      "196/196 [==============================] - 14s 72ms/step - loss: 0.0040 - accuracy: 0.9979 - val_loss: 1.0498 - val_accuracy: 0.9295\n",
      "Epoch 52/100\n",
      "196/196 [==============================] - 14s 71ms/step - loss: 7.2051e-04 - accuracy: 1.0000 - val_loss: 1.0420 - val_accuracy: 0.9175\n",
      "Epoch 53/100\n",
      "196/196 [==============================] - 14s 71ms/step - loss: 5.2288e-04 - accuracy: 0.9995 - val_loss: 0.3063 - val_accuracy: 0.9085\n",
      "Epoch 54/100\n",
      "196/196 [==============================] - 15s 75ms/step - loss: 4.1049e-05 - accuracy: 1.0000 - val_loss: 1.9762 - val_accuracy: 0.8996\n",
      "Epoch 55/100\n",
      "196/196 [==============================] - 14s 72ms/step - loss: 0.0086 - accuracy: 0.9979 - val_loss: 2.2983e-04 - val_accuracy: 0.8516\n",
      "Epoch 56/100\n",
      "196/196 [==============================] - 14s 72ms/step - loss: 0.0115 - accuracy: 0.9969 - val_loss: 6.3226e-04 - val_accuracy: 0.8364\n",
      "Epoch 57/100\n",
      "196/196 [==============================] - 14s 74ms/step - loss: 0.0014 - accuracy: 0.9995 - val_loss: 0.0032 - val_accuracy: 0.8786\n",
      "Epoch 58/100\n",
      "196/196 [==============================] - 15s 74ms/step - loss: 4.0101e-05 - accuracy: 1.0000 - val_loss: 0.0107 - val_accuracy: 0.8906\n",
      "Epoch 59/100\n",
      "196/196 [==============================] - 15s 75ms/step - loss: 1.5721e-05 - accuracy: 1.0000 - val_loss: 6.7553e-06 - val_accuracy: 0.8861\n",
      "Epoch 60/100\n",
      "196/196 [==============================] - 14s 73ms/step - loss: 2.8672e-05 - accuracy: 1.0000 - val_loss: 0.0491 - val_accuracy: 0.9190\n",
      "Epoch 61/100\n",
      "196/196 [==============================] - 14s 73ms/step - loss: 1.2887e-05 - accuracy: 1.0000 - val_loss: 2.6607 - val_accuracy: 0.8801\n",
      "Epoch 62/100\n",
      "196/196 [==============================] - 14s 72ms/step - loss: 4.8963e-05 - accuracy: 1.0000 - val_loss: 0.5826 - val_accuracy: 0.9160\n",
      "Epoch 63/100\n",
      "196/196 [==============================] - 15s 75ms/step - loss: 3.3737e-06 - accuracy: 1.0000 - val_loss: 0.0230 - val_accuracy: 0.9055\n",
      "Epoch 64/100\n",
      "196/196 [==============================] - 14s 73ms/step - loss: 5.6166e-04 - accuracy: 0.9995 - val_loss: 8.6072e-12 - val_accuracy: 0.9045\n",
      "Epoch 65/100\n",
      "196/196 [==============================] - 14s 72ms/step - loss: 0.0134 - accuracy: 0.9958 - val_loss: 2.8499e-05 - val_accuracy: 0.8246\n",
      "Epoch 66/100\n",
      "196/196 [==============================] - 14s 72ms/step - loss: 0.0029 - accuracy: 0.9984 - val_loss: 0.2703 - val_accuracy: 0.8606\n",
      "Epoch 67/100\n",
      "196/196 [==============================] - 15s 76ms/step - loss: 9.5264e-05 - accuracy: 1.0000 - val_loss: 1.7227 - val_accuracy: 0.8951\n",
      "Epoch 68/100\n",
      "196/196 [==============================] - 14s 72ms/step - loss: 0.0230 - accuracy: 0.9964 - val_loss: 4.9274e-04 - val_accuracy: 0.8891\n",
      "Epoch 69/100\n",
      "196/196 [==============================] - 14s 73ms/step - loss: 2.6291e-04 - accuracy: 1.0000 - val_loss: 0.2847 - val_accuracy: 0.8471\n",
      "Epoch 70/100\n",
      "196/196 [==============================] - 14s 71ms/step - loss: 0.0112 - accuracy: 0.9974 - val_loss: 2.1327 - val_accuracy: 0.8531\n",
      "Epoch 71/100\n",
      "196/196 [==============================] - 15s 75ms/step - loss: 0.0051 - accuracy: 0.9984 - val_loss: 1.3589 - val_accuracy: 0.8906\n",
      "Epoch 72/100\n",
      "196/196 [==============================] - 14s 72ms/step - loss: 0.0082 - accuracy: 0.9974 - val_loss: 0.0133 - val_accuracy: 0.8500\n",
      "Epoch 73/100\n",
      "196/196 [==============================] - 14s 71ms/step - loss: 0.0025 - accuracy: 0.9990 - val_loss: 0.4185 - val_accuracy: 0.8636\n",
      "Epoch 74/100\n",
      "196/196 [==============================] - 15s 75ms/step - loss: 6.6370e-05 - accuracy: 1.0000 - val_loss: 1.2378e-07 - val_accuracy: 0.8621\n",
      "Epoch 75/100\n",
      "196/196 [==============================] - 15s 77ms/step - loss: 0.0064 - accuracy: 0.9984 - val_loss: 0.5388 - val_accuracy: 0.7841\n",
      "Epoch 76/100\n",
      "196/196 [==============================] - 14s 72ms/step - loss: 0.0134 - accuracy: 0.9969 - val_loss: 0.6647 - val_accuracy: 0.7946\n",
      "Epoch 77/100\n",
      "196/196 [==============================] - 14s 73ms/step - loss: 0.0126 - accuracy: 0.9979 - val_loss: 0.2762 - val_accuracy: 0.9445\n",
      "Epoch 78/100\n",
      "196/196 [==============================] - 14s 73ms/step - loss: 0.0042 - accuracy: 0.9984 - val_loss: 2.0577e-08 - val_accuracy: 0.8891\n",
      "Epoch 79/100\n",
      "196/196 [==============================] - 14s 73ms/step - loss: 0.0018 - accuracy: 0.9990 - val_loss: 0.8866 - val_accuracy: 0.8756\n",
      "Epoch 80/100\n",
      "196/196 [==============================] - 15s 74ms/step - loss: 3.0513e-04 - accuracy: 1.0000 - val_loss: 3.1940 - val_accuracy: 0.8621\n",
      "Epoch 81/100\n",
      "196/196 [==============================] - 14s 74ms/step - loss: 3.7229e-05 - accuracy: 1.0000 - val_loss: 0.0088 - val_accuracy: 0.8786\n",
      "Epoch 82/100\n",
      "196/196 [==============================] - 14s 73ms/step - loss: 3.8524e-05 - accuracy: 1.0000 - val_loss: 4.1525 - val_accuracy: 0.8771\n",
      "Epoch 83/100\n",
      "196/196 [==============================] - 15s 74ms/step - loss: 1.9908e-05 - accuracy: 1.0000 - val_loss: 0.0614 - val_accuracy: 0.8756\n",
      "Epoch 84/100\n",
      "196/196 [==============================] - 15s 76ms/step - loss: 2.6682e-05 - accuracy: 1.0000 - val_loss: 1.0467 - val_accuracy: 0.8756\n",
      "Epoch 85/100\n",
      "196/196 [==============================] - 14s 74ms/step - loss: 1.9625e-05 - accuracy: 1.0000 - val_loss: 0.4572 - val_accuracy: 0.8771\n",
      "Epoch 86/100\n",
      "196/196 [==============================] - 14s 73ms/step - loss: 5.2179e-05 - accuracy: 1.0000 - val_loss: 0.3907 - val_accuracy: 0.8906\n",
      "Epoch 87/100\n",
      "196/196 [==============================] - 14s 73ms/step - loss: 0.0064 - accuracy: 0.9979 - val_loss: 9.7486e-04 - val_accuracy: 0.8771\n",
      "Epoch 88/100\n",
      "196/196 [==============================] - 15s 74ms/step - loss: 1.3293e-04 - accuracy: 1.0000 - val_loss: 2.8091 - val_accuracy: 0.8894\n",
      "Epoch 89/100\n",
      "196/196 [==============================] - 14s 73ms/step - loss: 2.5876e-05 - accuracy: 1.0000 - val_loss: 0.0120 - val_accuracy: 0.8786\n",
      "Epoch 90/100\n",
      "196/196 [==============================] - 14s 73ms/step - loss: 3.5760e-05 - accuracy: 1.0000 - val_loss: 0.0893 - val_accuracy: 0.8606\n",
      "Epoch 91/100\n",
      "196/196 [==============================] - 14s 73ms/step - loss: 5.3994e-06 - accuracy: 1.0000 - val_loss: 1.2922 - val_accuracy: 0.8636\n",
      "Epoch 92/100\n",
      "196/196 [==============================] - 15s 76ms/step - loss: 8.0102e-06 - accuracy: 1.0000 - val_loss: 1.3637 - val_accuracy: 0.8621\n",
      "Epoch 93/100\n",
      "196/196 [==============================] - 14s 74ms/step - loss: 4.3160e-05 - accuracy: 1.0000 - val_loss: 0.0375 - val_accuracy: 0.8921\n",
      "Epoch 94/100\n",
      "196/196 [==============================] - 15s 74ms/step - loss: 0.0304 - accuracy: 0.9958 - val_loss: 3.0341 - val_accuracy: 0.7976\n",
      "Epoch 95/100\n",
      "196/196 [==============================] - 15s 74ms/step - loss: 0.0271 - accuracy: 0.9948 - val_loss: 0.2609 - val_accuracy: 0.8186\n",
      "Epoch 96/100\n",
      "196/196 [==============================] - 15s 77ms/step - loss: 3.8646e-04 - accuracy: 1.0000 - val_loss: 9.7527 - val_accuracy: 0.8773\n",
      "Epoch 97/100\n",
      "196/196 [==============================] - 14s 73ms/step - loss: 4.9922e-04 - accuracy: 1.0000 - val_loss: 0.1936 - val_accuracy: 0.8771\n",
      "Epoch 98/100\n",
      "196/196 [==============================] - 15s 74ms/step - loss: 0.0153 - accuracy: 0.9958 - val_loss: 0.0105 - val_accuracy: 0.9040\n",
      "Epoch 99/100\n",
      "196/196 [==============================] - 14s 73ms/step - loss: 0.0010 - accuracy: 0.9995 - val_loss: 0.5002 - val_accuracy: 0.9175\n",
      "Epoch 100/100\n",
      "196/196 [==============================] - 15s 76ms/step - loss: 4.7297e-05 - accuracy: 1.0000 - val_loss: 0.9093 - val_accuracy: 0.9295\n"
     ]
    },
    {
     "data": {
      "text/plain": [
       "<keras.callbacks.callbacks.History at 0x26e9a247848>"
      ]
     },
     "execution_count": 11,
     "metadata": {},
     "output_type": "execute_result"
    }
   ],
   "source": [
    "classifier.fit_generator(training_data, steps_per_epoch=196, epochs=100, validation_data=test_data, validation_steps=73, shuffle=False)"
   ]
  },
  {
   "cell_type": "code",
   "execution_count": 21,
   "metadata": {},
   "outputs": [
    {
     "data": {
      "image/png": "[encoded data removed]",
      "text/plain": [
       "<PIL.Image.Image image mode=RGB size=64x64 at 0x26E9D40E588>"
      ]
     },
     "execution_count": 21,
     "metadata": {},
     "output_type": "execute_result"
    }
   ],
   "source": [
    "new_image = image.load_img('datasets/homer.jpg', target_size=(64, 64))\n",
    "new_image"
   ]
  },
  {
   "cell_type": "code",
   "execution_count": 22,
   "metadata": {},
   "outputs": [
    {
     "data": {
      "text/plain": [
       "{'bart': 0, 'homer': 1}"
      ]
     },
     "execution_count": 22,
     "metadata": {},
     "output_type": "execute_result"
    }
   ],
   "source": [
    "training_data.class_indices"
   ]
  },
  {
   "cell_type": "code",
   "execution_count": 23,
   "metadata": {},
   "outputs": [],
   "source": [
    "new_image = image.img_to_array(new_image)\n",
    "new_image = np.expand_dims(new_image, axis=0)"
   ]
  },
  {
   "cell_type": "code",
   "execution_count": 24,
   "metadata": {},
   "outputs": [],
   "source": [
    "result = classifier.predict(new_image)"
   ]
  },
  {
   "cell_type": "code",
   "execution_count": 27,
   "metadata": {},
   "outputs": [
    {
     "name": "stdout",
     "output_type": "stream",
     "text": [
      "É O HOMER\n"
     ]
    }
   ],
   "source": [
    "if result[0][0] == 1:\n",
    "    print('É O HOMER')\n",
    "else:\n",
    "    print('É O BART')"
   ]
  },
  {
   "cell_type": "code",
   "execution_count": null,
   "metadata": {},
   "outputs": [],
   "source": []
  }
 ],
 "metadata": {
  "kernelspec": {
   "display_name": "Python 3",
   "language": "python",
   "name": "python3"
  },
  "language_info": {
   "codemirror_mode": {
    "name": "ipython",
    "version": 3
   },
   "file_extension": ".py",
   "mimetype": "text/x-python",
   "name": "python",
   "nbconvert_exporter": "python",
   "pygments_lexer": "ipython3",
   "version": "3.7.7"
  }
 },
 "nbformat": 4,
 "nbformat_minor": 4
}
